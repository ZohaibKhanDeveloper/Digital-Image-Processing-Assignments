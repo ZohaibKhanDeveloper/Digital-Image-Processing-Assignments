{
 "cells": [
  {
   "cell_type": "markdown",
   "id": "92867c68-1138-4e52-85cd-25fe77cbc709",
   "metadata": {},
   "source": [
    "<h2> Gradient Image Creation In Python - DIP LAB Task #01 </h2>"
   ]
  },
  {
   "cell_type": "code",
   "execution_count": 3,
   "id": "ff5027e6-0f45-450f-8e7c-4201e6bd6d34",
   "metadata": {},
   "outputs": [
    {
     "name": "stderr",
     "output_type": "stream",
     "text": [
      "C:\\Users\\PMLS\\AppData\\Local\\Temp\\ipykernel_12340\\3408240798.py:20: DeprecationWarning: 'mode' parameter is deprecated and will be removed in Pillow 13 (2026-10-15)\n",
      "  img = Image.fromarray(rgb_image_array, 'RGB')\n"
     ]
    }
   ],
   "source": [
    "import numpy as np\n",
    "from PIL import Image\n",
    "import colorsys\n",
    "\n",
    "def create_hsv_gradient(width, height):\n",
    "    rgb_image_array = np.zeros((height, width, 3), dtype=np.uint8)\n",
    "\n",
    "    for y in range(height):\n",
    "        for x in range(width):\n",
    "            h = (x / (width - 1)) * 360.0\n",
    "            s = 1.0 - (y / (height - 1))\n",
    "            v = 1.0 - (y / (height - 1))\n",
    "\n",
    "            r, g, b = colorsys.hsv_to_rgb(h / 360.0, s, v)\n",
    "\n",
    "            rgb_image_array[y, x, 0] = int(r * 255)\n",
    "            rgb_image_array[y, x, 1] = int(g * 255)\n",
    "            rgb_image_array[y, x, 2] = int(b * 255)\n",
    "\n",
    "    img = Image.fromarray(rgb_image_array, 'RGB')\n",
    "    return img\n",
    "\n",
    "width = 512\n",
    "height = 512\n",
    "\n",
    "gradient_image = create_hsv_gradient(width, height)\n",
    "# gradient_image.save(\"hsv_gradient_output.png\")\n",
    "gradient_image.show()"
   ]
  },
  {
   "cell_type": "code",
   "execution_count": null,
   "id": "94c6f009-91b2-47b8-a551-9814813c4bbe",
   "metadata": {},
   "outputs": [],
   "source": []
  }
 ],
 "metadata": {
  "kernelspec": {
   "display_name": "Python 3 (ipykernel)",
   "language": "python",
   "name": "python3"
  },
  "language_info": {
   "codemirror_mode": {
    "name": "ipython",
    "version": 3
   },
   "file_extension": ".py",
   "mimetype": "text/x-python",
   "name": "python",
   "nbconvert_exporter": "python",
   "pygments_lexer": "ipython3",
   "version": "3.11.9"
  }
 },
 "nbformat": 4,
 "nbformat_minor": 5
}
